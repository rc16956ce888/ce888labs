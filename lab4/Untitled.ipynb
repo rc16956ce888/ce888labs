{
 "cells": [
  {
   "cell_type": "code",
   "execution_count": 1,
   "metadata": {
    "collapsed": true
   },
   "outputs": [],
   "source": [
    "## imports \n",
    "%matplotlib inline\n",
    "import numpy as np\n",
    "import pandas as pd\n",
    "import seaborn as sns\n",
    "\n",
    "import matplotlib.pyplot as plt\n"
   ]
  },
  {
   "cell_type": "code",
   "execution_count": 2,
   "metadata": {
    "collapsed": true
   },
   "outputs": [],
   "source": [
    "class Bandit(object): \n",
    "    def __init__(self,n_actions): \n",
    "        self.counts = np.zeros(n_actions) \n",
    "        self.action_rewards = [[] for i in range(n_actions)] \n",
    "        self.rewards = [] \n",
    "        self.n_actions = n_actions\n",
    "        \n",
    "    def select_action(self): \n",
    "        \"\"\"Selection which arm/action to pull\"\"\" \n",
    "        pass\n",
    "\n",
    "    def update(self,action,reward): \n",
    "        \"\"\"Update the actions\"\"\" \n",
    "        self.counts[action] = self.counts[action] + 1 \n",
    "        self.action_rewards[action].append(reward) \n",
    "        self.rewards.append(reward)\n",
    "\n",
    "    def get_Q_values(self): \n",
    "        Q_values = [] \n",
    "        for q_v in self.action_rewards: \n",
    "            Q_values.append(np.array(q_v).mean())       \n",
    "        return np.array(Q_values)\n",
    "\n",
    "    def get_V_value(self): \n",
    "        return np.array(self.v_value.mean())"
   ]
  },
  {
   "cell_type": "code",
   "execution_count": 3,
   "metadata": {
    "collapsed": true
   },
   "outputs": [],
   "source": [
    "class Egreedy(Bandit):\n",
    "    def __init__(self, epsilon,  *args,  **kwargs):\n",
    "        super(Egreedy, self).__init__(*args, **kwargs)\n",
    "        self.epsilon = epsilon\n",
    "        \n",
    "    def select_action(self):\n",
    "        \n",
    "       \n",
    "        \n",
    "        #never_visited = np.nonzero(self.counts == 0)\n",
    "#         print indices_zero, \"dfdf\"\n",
    "        never_visited = np.where(self.counts == 0)[0]\n",
    "        #print never_visited\n",
    "        if(len(never_visited)!=0):\n",
    "            return np.random.choice(never_visited)\n",
    "        \n",
    "        \n",
    "        #print never_visited, \"never\"\n",
    "        Q_values = self.get_Q_values()\n",
    "        if np.random.random() > self.epsilon:\n",
    "            return np.argmax(Q_values)\n",
    "        else:\n",
    "            return np.random.randint(self.n_actions)\n",
    "        \n",
    "\n",
    "class UCB(Bandit):\n",
    "    def __init__(self,  *args,  **kwargs):\n",
    "        super(UCB, self).__init__(*args, **kwargs)\n",
    "        \n",
    "        \n",
    "    def select_action(self):\n",
    "        \n",
    "       \n",
    "        never_visited = np.where(self.counts == 0)[0]\n",
    "        #print never_visited\n",
    "        if(len(never_visited)!=0):\n",
    "            return np.random.choice(never_visited)\n",
    "        \n",
    "        #print self.counts\n",
    "        #print never_visited, \"never\"\n",
    "        Q_values = self.get_Q_values()\n",
    "        #UCB = Q_values + np.sqrt(2 * np.log(len(self.v_values) + 1) / numPlays)\n",
    "        #print self.counts\n",
    "        for i in range(0,len(Q_values)):\n",
    "            #print np.sqrt((2 * np.log(len(self.v_values) + 1)) / len(self.q_values[i]))\n",
    "            Q_values[i]+= 0.5 *  np.sqrt(( np.log(len(self.rewards))) / len(self.action_rewards[i]))\n",
    "        return np.argmax(Q_values)\n",
    "\n",
    "    \n",
    "class BootstrapThompson(Bandit):\n",
    "    def __init__(self, *args,  **kwargs):\n",
    "        super(BootstrapThompson, self).__init__(*args, **kwargs)\n",
    "        #self.heads = [[[] for range(self.n_actions)] for range(n_heads)]\n",
    "        #self.n_heads = n_heads"
   ]
  },
  {
   "cell_type": "code",
   "execution_count": null,
   "metadata": {
    "collapsed": true
   },
   "outputs": [],
   "source": []
  }
 ],
 "metadata": {
  "kernelspec": {
   "display_name": "Python 2",
   "language": "python",
   "name": "python2"
  },
  "language_info": {
   "codemirror_mode": {
    "name": "ipython",
    "version": 2
   },
   "file_extension": ".py",
   "mimetype": "text/x-python",
   "name": "python",
   "nbconvert_exporter": "python",
   "pygments_lexer": "ipython2",
   "version": "2.7.12"
  }
 },
 "nbformat": 4,
 "nbformat_minor": 2
}
